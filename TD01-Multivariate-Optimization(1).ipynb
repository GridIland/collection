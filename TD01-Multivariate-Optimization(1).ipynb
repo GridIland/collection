{
 "cells": [
  {
   "cell_type": "code",
   "execution_count": null,
   "id": "9032f1e6",
   "metadata": {},
   "outputs": [],
   "source": [
    "import numpy as np\n",
    "import numpy.random as random\n",
    "\n",
    "import matplotlib\n",
    "import matplotlib.pyplot as plt\n",
    "\n",
    "import sympy as sp\n",
    "sp.init_printing()"
   ]
  },
  {
   "cell_type": "markdown",
   "id": "3bab8cb3",
   "metadata": {},
   "source": [
    "# Analyse the Rosenbrock \"banana\" Function\n",
    "\n",
    "**To-do**\n",
    "\n",
    "- Compute the gradient $\\nabla f(\\mathbf{x})$ and Hessian $\\nabla^2 f(\\mathbf{x})$\n",
    "of the Rosenbrock function\n",
    "$$\n",
    "f(x,y) = 100(y-x^2)^2+(1-x)^2\n",
    "$$\n",
    "\n",
    "- Show that $\\mathbf{x}^\\star = (1, 1)^T$ is the only local minimizer of this function,\n",
    "and that the Hessian matrix at that point is positive definite.\n",
    "\n",
    "- Represent $f(x,y)$ on the intervals $[-2,2]\\times[-4,4]$"
   ]
  },
  {
   "cell_type": "code",
   "execution_count": null,
   "id": "3027c844",
   "metadata": {},
   "outputs": [],
   "source": [
    "# Rosenbrock Function, useful in this form for symbolic calculus and plotting (see ros function below)\n",
    "r = lambda x,y: 100*(y-x**2)**2 +(1-x)**2"
   ]
  },
  {
   "cell_type": "code",
   "execution_count": null,
   "id": "5b538eed",
   "metadata": {},
   "outputs": [],
   "source": [
    "# get r in symbolic  form\n",
    "x,y=sp.symbols(['x','y'])\n",
    "f = r(x,y)\n",
    "f"
   ]
  },
  {
   "cell_type": "code",
   "execution_count": null,
   "id": "ee3b3c3a",
   "metadata": {},
   "outputs": [],
   "source": [
    "# Compute gradient \n",
    "# use simplify and diff from sympy\n",
    "#g=[sp.simplify(sp.diff(f,x)), sp.simplify(sp.diff(f, y))]\n",
    "#g"
   ]
  },
  {
   "cell_type": "code",
   "execution_count": null,
   "id": "1a9e49cb",
   "metadata": {},
   "outputs": [],
   "source": [
    "# compute the Hessian matrix\n",
    "# use simplify and diff from sympy\n",
    "#H = sp.Matrix([[???, ???], [???,???]])\n",
    "#H"
   ]
  },
  {
   "cell_type": "code",
   "execution_count": null,
   "id": "a37a15cf",
   "metadata": {},
   "outputs": [],
   "source": [
    "## plot r\n",
    "x1 = np.linspace(-2,2,200)\n",
    "x2 = np.linspace(-4,4,200)\n",
    "X1,X2 = np.meshgrid(x1,x2)\n",
    "\n",
    "\n",
    "fig, axes = plt.subplots(1,2,figsize=(16,8))\n",
    "\n",
    "Z = r(X1,X2)\n",
    "axes[1].contourf(X1,X2,Z,20,alpha=0.75,cmap=plt.cm.magma)\n",
    "C=axes[1].contour(X1,X2,Z,20,colors='black',linewidths=0.5)\n",
    "\n",
    "axes[1].set_title(\"Level lines\")\n",
    "axes[1].clabel(C,inline=True,fontsize=10)\n",
    "\n",
    "axes[0].remove()\n",
    "axes[0] = fig.add_subplot(1,2,1,projection='3d')\n",
    " \n",
    "axes[0].plot_surface(X1, X2, Z, cmap=plt.cm.magma, alpha=0.8)\n",
    "\n",
    "axes[0].set_title('3D view', fontsize=14)\n",
    "axes[0].set_xlabel('$x_1$', fontsize=12)\n",
    "axes[0].set_ylabel('$x_2$', fontsize=12)\n",
    "axes[0].set_zlabel('$f(x_1,x_2)$', fontsize=12)\n",
    " \n",
    "plt.show()"
   ]
  },
  {
   "cell_type": "markdown",
   "id": "0e0990cb",
   "metadata": {},
   "source": [
    "# Minimize the Rosenbrock function using Gradient Descent\n",
    "\n",
    "Find numerically the minimizer of the Rosenbrock function using the Gradient descent algorithm starting from\n",
    "the point $(-1,-1)$"
   ]
  },
  {
   "cell_type": "code",
   "execution_count": null,
   "id": "5d1cd806",
   "metadata": {},
   "outputs": [],
   "source": [
    "## just copy and past the result in order to get the gradient\n",
    "# sp.init_printing(False)\n",
    "# sp.simplify(sp.diff(f,x)), sp.simplify(sp.diff(f, y))"
   ]
  },
  {
   "cell_type": "code",
   "execution_count": null,
   "id": "f548d258",
   "metadata": {},
   "outputs": [],
   "source": [
    "# Rosenbrock function, useful in this form for computing\n",
    "def ros(x):\n",
    "    return 100*(x[1]-x[0]**2)**2 +(1-x[0])**2"
   ]
  },
  {
   "cell_type": "code",
   "execution_count": null,
   "id": "529c1a8a",
   "metadata": {},
   "outputs": [],
   "source": [
    "#df = lambda x : np.array([???, ???)"
   ]
  },
  {
   "cell_type": "code",
   "execution_count": null,
   "id": "d107ed92",
   "metadata": {},
   "outputs": [],
   "source": [
    "def backtrack(x, p, f, t=1, c=0.3, rho=0.9):\n",
    "    g = df(x)\n",
    "    v = f(x)\n",
    "    while ( f(x+t*p) > v + c * t * g.T.dot(p) ):\n",
    "        t *= rho\n",
    "    return t"
   ]
  },
  {
   "cell_type": "code",
   "execution_count": null,
   "id": "299fcbad",
   "metadata": {},
   "outputs": [],
   "source": [
    "def gradient_descent(f, df, x, maxiter = 100, tol=0.001):\n",
    "    # store x_0, f(x_0)\n",
    "    X = [x]\n",
    "    Target = np.array([f(x)])\n",
    "    # start iterations\n",
    "    p = -df(x)\n",
    "    nit = 0\n",
    "    while nit < maxiter and np.linalg.norm(p) >= tol:\n",
    "        nit += 1\n",
    "        x = x + backtrack(x,p,f) * p\n",
    "        p = -df(x)\n",
    "        \n",
    "        # store x_k and f(x_k)\n",
    "        X.append(x)\n",
    "        Target = np.append(Target, f(x))\n",
    "    return X, Target"
   ]
  },
  {
   "cell_type": "code",
   "execution_count": null,
   "id": "b3017ae0",
   "metadata": {},
   "outputs": [],
   "source": [
    "X, Target = gradient_descent(ros, df, np.array([-1,-1]), 10)\n",
    "X, Target"
   ]
  },
  {
   "cell_type": "markdown",
   "id": "c3b9905e",
   "metadata": {},
   "source": [
    "#### To-do\n",
    "\n",
    "- Plot the sequences of point $\\mathbf x_0$, $\\mathbf x_1$, ...on the plane (stored in the array `X`)\n",
    "- Represent the evolution of the objective function $r$ during the iterations (sotred in the array `Target`)\n",
    "- Evaluate the rate of convergence of this method"
   ]
  },
  {
   "cell_type": "code",
   "execution_count": null,
   "id": "dbdc3467",
   "metadata": {},
   "outputs": [],
   "source": []
  },
  {
   "cell_type": "markdown",
   "id": "f9d0bc09",
   "metadata": {},
   "source": [
    "# Minimize the Rosenbrock function using Newton\n",
    "\n",
    "**To-do**\n",
    "- Find numerically the minimizer of the Rosenbrock function using the Newton algorithm.\n",
    "- Compare the number of iterations of this algorithm with the previous one"
   ]
  },
  {
   "cell_type": "code",
   "execution_count": null,
   "id": "d6724238",
   "metadata": {},
   "outputs": [],
   "source": []
  },
  {
   "cell_type": "markdown",
   "id": "3de99831",
   "metadata": {},
   "source": [
    "# Minimize the Three-hump camel function\n",
    "\n",
    "Same questions with the Three-hump camel function\n",
    "$$ f(x,y) = 2x^{2} - 1.05x^{4} + \\frac{x^{6}}{6} + xy + y^{2}$$\n",
    "\n",
    "Modify the starting points of the algorithms and compare the results.\n",
    "\n",
    "Conclusion ?"
   ]
  },
  {
   "cell_type": "code",
   "execution_count": null,
   "id": "f7dba784",
   "metadata": {},
   "outputs": [],
   "source": []
  }
 ],
 "metadata": {
  "kernelspec": {
   "display_name": "Python 3 (ipykernel)",
   "language": "python",
   "name": "python3"
  },
  "language_info": {
   "codemirror_mode": {
    "name": "ipython",
    "version": 3
   },
   "file_extension": ".py",
   "mimetype": "text/x-python",
   "name": "python",
   "nbconvert_exporter": "python",
   "pygments_lexer": "ipython3",
   "version": "3.12.3"
  }
 },
 "nbformat": 4,
 "nbformat_minor": 5
}
