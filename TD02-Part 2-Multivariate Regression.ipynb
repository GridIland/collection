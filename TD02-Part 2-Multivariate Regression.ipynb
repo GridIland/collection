{
 "cells": [
  {
   "cell_type": "code",
   "execution_count": 4,
   "id": "0e6476c5",
   "metadata": {},
   "outputs": [],
   "source": [
    "import pandas as pd\n",
    "import numpy as np"
   ]
  },
  {
   "cell_type": "markdown",
   "id": "cdef3f18",
   "metadata": {},
   "source": [
    "# Multiple linear regression\n",
    "\n",
    "Classical regression models (linear, logistic) are old and less hype\n",
    "than recent machine learning models. Nevertheless, given their robustness and\n",
    "stability in the face of sample fluctuations, their ability to scale up to\n",
    "massive data... given all these factors mean that they are still widely used\n",
    "in production especially when the function to be modeled is linear, and it would be\n",
    "counterproductive to look for something more complicated.\n",
    "\n",
    "\n",
    "## An introductory example: air ozone prediction\n",
    "\n",
    "Air pollution, including compounds such as ozone, has become a global concern due to its detrimental effects on human health and the environment. Ozone is a reactive gas formed through complex photochemical reactions involving precursor pollutants such as nitrogen oxides (NOx) and volatile organic compounds (VOCs)3,4,5. Elevated ozone levels in the atmosphere can contribute to respiratory issues, cardiovascular diseases, and lung inflammation in humans. It can also harm plants, reduce crop yields, and disrupt ecosystems. Accurately predicting ozone concentrations in the air is crucial for effective air quality management and the development of appropriate mitigation strategies.\n",
    "\n",
    "By forecasting ozone levels, policymakers, environmental agencies, and health professionals can take timely measures \n",
    "to reduce exposure and mitigate the potential health and ecological risks associated with high ozone concentrations. This can include implementing emission controls, adjusting industrial activities, and raising awareness among vulnerable populations.\n",
    "\n",
    "Many variables can explain this concentration, such as the wind that pushes air masses. This physical phenomenon is known as advectance (or dilution). Other variables, such as radiation, precipitation, etc., have a definite influence on ozone concentration. We therefore measure other variables likely to have an influence on ozone concentration. Here are a subset of some of these data:"
   ]
  },
  {
   "cell_type": "code",
   "execution_count": 5,
   "id": "188e77c2",
   "metadata": {},
   "outputs": [
    {
     "data": {
      "text/html": [
       "<div>\n",
       "<style scoped>\n",
       "    .dataframe tbody tr th:only-of-type {\n",
       "        vertical-align: middle;\n",
       "    }\n",
       "\n",
       "    .dataframe tbody tr th {\n",
       "        vertical-align: top;\n",
       "    }\n",
       "\n",
       "    .dataframe thead th {\n",
       "        text-align: right;\n",
       "    }\n",
       "</style>\n",
       "<table border=\"1\" class=\"dataframe\">\n",
       "  <thead>\n",
       "    <tr style=\"text-align: right;\">\n",
       "      <th></th>\n",
       "      <th>0</th>\n",
       "      <th>1</th>\n",
       "      <th>2</th>\n",
       "      <th>3</th>\n",
       "      <th>4</th>\n",
       "      <th>5</th>\n",
       "      <th>6</th>\n",
       "      <th>7</th>\n",
       "      <th>8</th>\n",
       "      <th>9</th>\n",
       "    </tr>\n",
       "  </thead>\n",
       "  <tbody>\n",
       "    <tr>\n",
       "      <th>O3</th>\n",
       "      <td>115.40</td>\n",
       "      <td>76.80</td>\n",
       "      <td>113.80</td>\n",
       "      <td>81.60</td>\n",
       "      <td>115.40</td>\n",
       "      <td>125.00</td>\n",
       "      <td>83.60</td>\n",
       "      <td>75.2</td>\n",
       "      <td>136.80</td>\n",
       "      <td>102.80</td>\n",
       "    </tr>\n",
       "    <tr>\n",
       "      <th>T12</th>\n",
       "      <td>23.80</td>\n",
       "      <td>16.30</td>\n",
       "      <td>27.20</td>\n",
       "      <td>7.10</td>\n",
       "      <td>25.10</td>\n",
       "      <td>27.50</td>\n",
       "      <td>19.40</td>\n",
       "      <td>19.8</td>\n",
       "      <td>32.20</td>\n",
       "      <td>20.70</td>\n",
       "    </tr>\n",
       "    <tr>\n",
       "      <th>V</th>\n",
       "      <td>9.25</td>\n",
       "      <td>-6.15</td>\n",
       "      <td>-4.92</td>\n",
       "      <td>11.57</td>\n",
       "      <td>-6.23</td>\n",
       "      <td>2.76</td>\n",
       "      <td>10.15</td>\n",
       "      <td>13.5</td>\n",
       "      <td>21.27</td>\n",
       "      <td>13.79</td>\n",
       "    </tr>\n",
       "    <tr>\n",
       "      <th>N12</th>\n",
       "      <td>5.00</td>\n",
       "      <td>7.00</td>\n",
       "      <td>6.00</td>\n",
       "      <td>5.00</td>\n",
       "      <td>2.00</td>\n",
       "      <td>7.00</td>\n",
       "      <td>4.00</td>\n",
       "      <td>6.0</td>\n",
       "      <td>1.00</td>\n",
       "      <td>4.00</td>\n",
       "    </tr>\n",
       "  </tbody>\n",
       "</table>\n",
       "</div>"
      ],
      "text/plain": [
       "          0      1       2      3       4       5      6     7       8       9\n",
       "O3   115.40  76.80  113.80  81.60  115.40  125.00  83.60  75.2  136.80  102.80\n",
       "T12   23.80  16.30   27.20   7.10   25.10   27.50  19.40  19.8   32.20   20.70\n",
       "V      9.25  -6.15   -4.92  11.57   -6.23    2.76  10.15  13.5   21.27   13.79\n",
       "N12    5.00   7.00    6.00   5.00    2.00    7.00   4.00   6.0    1.00    4.00"
      ]
     },
     "execution_count": 5,
     "metadata": {},
     "output_type": "execute_result"
    }
   ],
   "source": [
    "# initialise data of lists.\n",
    "data = {'O3' :[115.4,76.8,113.8,81.6,115.4,125,83.6,75.2,136.8,102.8],\n",
    "        'T12':[23.8,16.3,27.2,7.1,25.1,27.5,19.4,19.8,32.2,20.7,],\n",
    "        'V'  :[9.25, -6.15, -4.92, 11.57, -6.23, 2.76, 10.15, 13.5, 21.27, 13.79],\n",
    "        'N12':[5, 7, 6, 5, 2, 7, 4, 6, 1, 4]}\n",
    "df = pd.DataFrame(data)\n",
    "df.T"
   ]
  },
  {
   "cell_type": "markdown",
   "id": "61d9fe1c",
   "metadata": {},
   "source": [
    "The variable $V$ is a synthetic variable. In fact, wind is normally measured in degrees\n",
    "(direction) and meters per second (speed). The $V$ variable we've created is the wind's projection\n",
    "of the wind on the East-West axis, so it takes into account both direction and speed.\n",
    "\n",
    "The $N$ variable is the cloud cover at midday.\n",
    "\n",
    "To analyze the relationship between temperature $T$ at noon, wind $V$, cloud cover at noon $N$ and ozone $O_3$, we'll look for a function $f$ such that :\n",
    "$$\n",
    "O_{3i} \\approx f(T_i , V_i , N_i).\n",
    "$$\n",
    "minimizing the risk $R_n$ associated with the quadratic loss function\n",
    "$$\n",
    "R_n = \\sum_{i=1}^n \\left(O_{3i} -f(T_i , V_i , N_i)\\right)^2.\n",
    "$$\n"
   ]
  },
  {
   "cell_type": "markdown",
   "id": "889ea054",
   "metadata": {},
   "source": [
    "## The linear model\n",
    "\n",
    "Minimizing a cost also requires knowledge of the space over which we're minimizing.\n",
    "the class of functions $\\mathcal{F}$ in which we'll assume the true unknown function lies.\n",
    "The linear model assumes that\n",
    "$$\n",
    "\\mathcal{F}=\\left\\{\n",
    "f : \\mathbb{R}^p\\rightarrow \\mathbb{R};\\; f(x^1,\\ldots, x^p) = \\beta_0 + \\sum_{j=1}^p \\beta_j x^j\n",
    "\\right\\}\n",
    "$$\n",
    "\n",
    "The data are assumed to come from the observation of a statistical sample of size\n",
    "$n$ with $(n > p + 1)$ of $\\mathbb{R}^{(p+1)}$.\n",
    "$$\n",
    "(x_{1i},\\ldots, x^j_i ,\\ldots, x^p_i, y_i)\\quad i = 1,\\ldots, n.\n",
    "$$"
   ]
  },
  {
   "cell_type": "markdown",
   "id": "aba48339",
   "metadata": {},
   "source": [
    "The model is written in matrix form\n",
    "$$\n",
    "Y = X \\beta + \\epsilon\n",
    "$$\n",
    "with $Y$ vector of $\\mathbb{R}^n$, $X$ matrix $(n,p+1)$, $\\beta=(\\beta_0,\\beta_1,\\ldots,\\beta_p)^T$ vector\n",
    "of $\\mathbb{R}^{p+1}$ and $\\epsilon=(\\epsilon_1,\\ldots,\\epsilon_n)^T$ vector of $\\mathbb{R}^n$.\n",
    "\n",
    "- $Y$ is the variable to be explained\n",
    "- $X$ is the predictor matrix\n",
    "- $\\epsilon$ is the vector of errors"
   ]
  },
  {
   "cell_type": "markdown",
   "id": "fe2321c9",
   "metadata": {},
   "source": [
    "### Statistical assumptions\n",
    "\n",
    "1. The $\\epsilon_i$ are independent\n",
    "2. The $X^j$ terms are deterministic\n",
    "3. Parameters $\\beta_0$, $\\beta_1$,...,$\\beta_p$ are assumed constant\n",
    "4. The model is Gaussian if $\\epsilon_i$ are assumed to have a normal distribution."
   ]
  },
  {
   "cell_type": "markdown",
   "id": "e42fbb97",
   "metadata": {},
   "source": [
    "### Prepare the data\n",
    "\n",
    "The data are arranged in a matrix $X$ of size $(n, p+1)$ with general term $X^j$ (column)\n",
    "and whose first column contains the vector $\\mathbb{1}_n$.\n",
    "\n",
    "Some code\n",
    "```\n",
    "import statsmodels.api as sm\n",
    "X = df[[\"T12\", \"V\", \"N12\"]]\n",
    "X = sm.add_constant(X)\n",
    "Y = df.O3\n",
    "```"
   ]
  },
  {
   "cell_type": "code",
   "execution_count": 6,
   "id": "cd0e4994",
   "metadata": {},
   "outputs": [
    {
     "data": {
      "text/html": [
       "<div>\n",
       "<style scoped>\n",
       "    .dataframe tbody tr th:only-of-type {\n",
       "        vertical-align: middle;\n",
       "    }\n",
       "\n",
       "    .dataframe tbody tr th {\n",
       "        vertical-align: top;\n",
       "    }\n",
       "\n",
       "    .dataframe thead th {\n",
       "        text-align: right;\n",
       "    }\n",
       "</style>\n",
       "<table border=\"1\" class=\"dataframe\">\n",
       "  <thead>\n",
       "    <tr style=\"text-align: right;\">\n",
       "      <th></th>\n",
       "      <th>T12</th>\n",
       "      <th>V</th>\n",
       "      <th>N12</th>\n",
       "    </tr>\n",
       "  </thead>\n",
       "  <tbody>\n",
       "    <tr>\n",
       "      <th>0</th>\n",
       "      <td>23.8</td>\n",
       "      <td>9.25</td>\n",
       "      <td>5</td>\n",
       "    </tr>\n",
       "    <tr>\n",
       "      <th>1</th>\n",
       "      <td>16.3</td>\n",
       "      <td>-6.15</td>\n",
       "      <td>7</td>\n",
       "    </tr>\n",
       "    <tr>\n",
       "      <th>2</th>\n",
       "      <td>27.2</td>\n",
       "      <td>-4.92</td>\n",
       "      <td>6</td>\n",
       "    </tr>\n",
       "    <tr>\n",
       "      <th>3</th>\n",
       "      <td>7.1</td>\n",
       "      <td>11.57</td>\n",
       "      <td>5</td>\n",
       "    </tr>\n",
       "    <tr>\n",
       "      <th>4</th>\n",
       "      <td>25.1</td>\n",
       "      <td>-6.23</td>\n",
       "      <td>2</td>\n",
       "    </tr>\n",
       "    <tr>\n",
       "      <th>5</th>\n",
       "      <td>27.5</td>\n",
       "      <td>2.76</td>\n",
       "      <td>7</td>\n",
       "    </tr>\n",
       "    <tr>\n",
       "      <th>6</th>\n",
       "      <td>19.4</td>\n",
       "      <td>10.15</td>\n",
       "      <td>4</td>\n",
       "    </tr>\n",
       "    <tr>\n",
       "      <th>7</th>\n",
       "      <td>19.8</td>\n",
       "      <td>13.50</td>\n",
       "      <td>6</td>\n",
       "    </tr>\n",
       "    <tr>\n",
       "      <th>8</th>\n",
       "      <td>32.2</td>\n",
       "      <td>21.27</td>\n",
       "      <td>1</td>\n",
       "    </tr>\n",
       "    <tr>\n",
       "      <th>9</th>\n",
       "      <td>20.7</td>\n",
       "      <td>13.79</td>\n",
       "      <td>4</td>\n",
       "    </tr>\n",
       "  </tbody>\n",
       "</table>\n",
       "</div>"
      ],
      "text/plain": [
       "    T12      V  N12\n",
       "0  23.8   9.25    5\n",
       "1  16.3  -6.15    7\n",
       "2  27.2  -4.92    6\n",
       "3   7.1  11.57    5\n",
       "4  25.1  -6.23    2\n",
       "5  27.5   2.76    7\n",
       "6  19.4  10.15    4\n",
       "7  19.8  13.50    6\n",
       "8  32.2  21.27    1\n",
       "9  20.7  13.79    4"
      ]
     },
     "execution_count": 6,
     "metadata": {},
     "output_type": "execute_result"
    }
   ],
   "source": [
    "X = df[[\"T12\", \"V\", \"N12\"]]\n",
    "X"
   ]
  },
  {
   "cell_type": "code",
   "execution_count": 7,
   "id": "9028ce5f",
   "metadata": {},
   "outputs": [],
   "source": [
    "import statsmodels.api as sm"
   ]
  },
  {
   "cell_type": "code",
   "execution_count": null,
   "id": "a1165069",
   "metadata": {},
   "outputs": [],
   "source": []
  },
  {
   "cell_type": "code",
   "execution_count": null,
   "id": "c53c4561",
   "metadata": {},
   "outputs": [],
   "source": []
  },
  {
   "cell_type": "markdown",
   "id": "51871519",
   "metadata": {},
   "source": [
    "### Least-squares estimation\n",
    "\n",
    "If we choose to minimize the sum of squared errors, the expression to be minimized in $beta$ is\n",
    "$$\n",
    "\\sum_{i=1}^n (y_i - \\beta_0 - \\beta_1 x^1_i - \\ldots - \\beta_p x^p_i)^2\n",
    "= \\| Y - X\\beta \\|^2 = Y^T Y - 2\\beta^T X^TY+\\beta^TX^TX\\beta.\n",
    "$$\n",
    "The solution to this opitmization problem is\n",
    "$$\n",
    "\\hat{\\beta} = (X^TX)^{-1}X^TY\n",
    "$$\n"
   ]
  },
  {
   "cell_type": "markdown",
   "id": "73821cd1",
   "metadata": {},
   "source": [
    "### Compute the coefficients\n",
    "\n",
    "Some code\n",
    "```\n",
    "B=X.T.dot(Y)\n",
    "A =X.T.dot(X)\n",
    "C=pd.DataFrame(np.linalg.inv(A.values), X.columns, X.columns)\n",
    "beta = C.dot(B)\n",
    "```"
   ]
  },
  {
   "cell_type": "code",
   "execution_count": null,
   "id": "0d9396e2",
   "metadata": {},
   "outputs": [],
   "source": []
  },
  {
   "cell_type": "code",
   "execution_count": null,
   "id": "99ee3355",
   "metadata": {},
   "outputs": [],
   "source": []
  },
  {
   "cell_type": "code",
   "execution_count": null,
   "id": "c407c43a",
   "metadata": {},
   "outputs": [],
   "source": []
  },
  {
   "cell_type": "code",
   "execution_count": null,
   "id": "eb59f631",
   "metadata": {},
   "outputs": [],
   "source": []
  },
  {
   "cell_type": "code",
   "execution_count": null,
   "id": "ff4776fe",
   "metadata": {},
   "outputs": [],
   "source": []
  },
  {
   "cell_type": "markdown",
   "id": "6a479d72",
   "metadata": {},
   "source": [
    "## Results using the OLS function\n",
    "\n",
    "The Ordinary Least Square are implemented in the library ``statmodels.api``\n",
    "\n",
    "```\n",
    "model = sm.OLS(Y, X)\n",
    "results = model.fit()\n",
    "results.summary()\n",
    "```"
   ]
  },
  {
   "cell_type": "code",
   "execution_count": null,
   "id": "00b65e10",
   "metadata": {},
   "outputs": [],
   "source": []
  },
  {
   "cell_type": "markdown",
   "id": "ab6ad992",
   "metadata": {},
   "source": [
    "## Predicting ozone concentration using all variables\n",
    "\n",
    "\n",
    "We import the data, then use the lm command to regress maxO3 on the other variables in the sample."
   ]
  },
  {
   "cell_type": "code",
   "execution_count": 8,
   "id": "b7250e76",
   "metadata": {},
   "outputs": [],
   "source": [
    "import statsmodels.formula.api as smf"
   ]
  },
  {
   "cell_type": "code",
   "execution_count": 9,
   "id": "27be04e7",
   "metadata": {},
   "outputs": [
    {
     "name": "stdout",
     "output_type": "stream",
     "text": [
      "                            OLS Regression Results                            \n",
      "==============================================================================\n",
      "Dep. Variable:                  maxO3   R-squared:                       0.755\n",
      "Model:                            OLS   Adj. R-squared:                  0.738\n",
      "Method:                 Least Squares   F-statistic:                     45.68\n",
      "Date:                Thu, 14 Mar 2024   Prob (F-statistic):           6.06e-29\n",
      "Time:                        14:41:00   Log-Likelihood:                -453.71\n",
      "No. Observations:                 112   AIC:                             923.4\n",
      "Df Residuals:                     104   BIC:                             945.2\n",
      "Df Model:                           7                                         \n",
      "Covariance Type:            nonrobust                                         \n",
      "==============================================================================\n",
      "                 coef    std err          t      P>|t|      [0.025      0.975]\n",
      "------------------------------------------------------------------------------\n",
      "Intercept     12.7055     13.109      0.969      0.335     -13.289      38.700\n",
      "T9            -0.6360      1.035     -0.615      0.540      -2.688       1.416\n",
      "T12            2.5060      1.399      1.791      0.076      -0.269       5.281\n",
      "T15            0.7138      1.137      0.628      0.531      -1.540       2.968\n",
      "Ne9           -2.7606      0.892     -3.096      0.003      -4.529      -0.993\n",
      "Ne12          -0.3719      1.346     -0.276      0.783      -3.041       2.297\n",
      "Ne15           0.0903      0.999      0.090      0.928      -1.891       2.072\n",
      "maxO3v         0.3777      0.061      6.171      0.000       0.256       0.499\n",
      "==============================================================================\n",
      "Omnibus:                       10.038   Durbin-Watson:                   1.895\n",
      "Prob(Omnibus):                  0.007   Jarque-Bera (JB):               23.403\n",
      "Skew:                          -0.139   Prob(JB):                     8.28e-06\n",
      "Kurtosis:                       5.222   Cond. No.                         979.\n",
      "==============================================================================\n",
      "\n",
      "Notes:\n",
      "[1] Standard Errors assume that the covariance matrix of the errors is correctly specified.\n"
     ]
    }
   ],
   "source": [
    "ozone = pd.read_csv('ozone.txt', sep=\";\", decimal=',')\n",
    "\n",
    "reg_multi = smf.ols('maxO3~T9+T12+T15+Ne9+Ne12+Ne15+maxO3v', data=ozone).fit()\n",
    "print(reg_multi.summary())"
   ]
  },
  {
   "cell_type": "markdown",
   "id": "314b5876",
   "metadata": {},
   "source": [
    "We can see here that some parameters are not significantly different from 0, because their $p$-values are not less than 5%, the level of testing we want.\n",
    "\n",
    "The $R^{2}$ is about 0.75, and the adjusted $R^{2}$ is about 0.74.\n",
    "\n",
    "*This value is higher than in simple linear regression, and this is logical, because when we add potential explanatory variables, we naturally increase the value of these $R^{2}$.*.\n",
    "\n",
    "## Remove irrelevant variables\n",
    "\n",
    "Try to get a better model by removing the least significant variable."
   ]
  },
  {
   "cell_type": "code",
   "execution_count": null,
   "id": "f877d420",
   "metadata": {},
   "outputs": [],
   "source": []
  }
 ],
 "metadata": {
  "kernelspec": {
   "display_name": "Python 3 (ipykernel)",
   "language": "python",
   "name": "python3"
  },
  "language_info": {
   "codemirror_mode": {
    "name": "ipython",
    "version": 3
   },
   "file_extension": ".py",
   "mimetype": "text/x-python",
   "name": "python",
   "nbconvert_exporter": "python",
   "pygments_lexer": "ipython3",
   "version": "3.10.12"
  }
 },
 "nbformat": 4,
 "nbformat_minor": 5
}
