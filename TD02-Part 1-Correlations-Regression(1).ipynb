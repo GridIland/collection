{
 "cells": [
  {
   "cell_type": "code",
   "execution_count": null,
   "metadata": {},
   "outputs": [],
   "source": [
    "# read file in a pandas dataframe\n",
    "import pandas as pd\n",
    "import numpy as np"
   ]
  },
  {
   "cell_type": "code",
   "execution_count": null,
   "metadata": {
    "scrolled": true
   },
   "outputs": [],
   "source": [
    "import matplotlib.pyplot as plt"
   ]
  },
  {
   "cell_type": "markdown",
   "metadata": {},
   "source": [
    "# Correlation analysis\n",
    "\n",
    "Consider an array $X$ of size $n\\times p$ containing numerical data.\n",
    "\n",
    "The dimension $n$ (the number of rows in the table) gives the number of *individuals*.\n",
    "The dimension $p$ (the number of columns in the table) gives the number of *variables*.\n",
    "\n",
    "- A row $i$ of table $X$ describes an individual using $p$ measures: it's a **datum**.\n",
    "- A column $j$ of table $X$ is a series or a statistical variable\n",
    "\n"
   ]
  },
  {
   "cell_type": "markdown",
   "metadata": {},
   "source": [
    "## Mean vector\n",
    "\n",
    "The variables are denoted $X^1$, $X^2$,..., $X^{p}$. These are the columns of the matrix $X$.\n",
    "They are therefore vectors of $\\mathbb{R}^{n}$.\n",
    "The mean of the $j$th variable is denoted $\\bar{X}^j$ and is calculated by the following formula\n",
    "$$\n",
    "\\bar{X}^j = \\frac{1}{n} \\sum_{i=1}^n x_{ij}.\n",
    "$$\n",
    "The vector of averages is the vector\n",
    "$$\n",
    "\\bar{X} = (\\bar{X}^1,\\ldots,\\bar{X}^p)^T.\n",
    "$$\n",
    "It can be calculated using the numpy function ``np.mean``."
   ]
  },
  {
   "cell_type": "markdown",
   "metadata": {},
   "source": [
    "## Variances and covariances\n",
    "\n",
    "The **variance-covariance matrix** is a table which gives **second order** *statistics* of the observations contained\n",
    "in the array $X$ of size $n\\times p$.\n",
    "\n",
    "If $X^j$ and $X^{j\\prime}$ are two statistical variables of dimension $n$, the empirical variance and covariance\n",
    "are given by the formulas\n",
    "$$\n",
    "\\mathrm{Var}(X^j) = \\frac{1}{n} \\sum_{i=1}^n (x_{ij}-\\bar{X}^j)^2 = \\frac{1}{n} \\sum_{i=1}^n x_{ij}^2 -(\\bar{X}^j)^2\n",
    "$$\n",
    "$$\n",
    "\\mathrm{Cov}(X^j, X^{j\\prime})\\frac{1}{n} \\sum_{i=1}^n (x_{ij}-\\bar{X}^j)(x_{ij\\prime}-\\bar{X}^{j\\prime})\n",
    "= \\sum_{i=1}^n x_{ij}x_{ij\\prime}-\\bar{X}^j\\bar{X}^{j\\prime}\n",
    "$$\n",
    "The variance-covariance matrix, denoted $\\Sigma$, is a matrix of size $p\\times p$ which contains\n",
    "the following elements\n",
    "$$\n",
    "\\sigma_{jj\\prime} = \\left\\{\n",
    "\\begin{array}{lcl}\n",
    "\\mathrm{Cov}(X^j, X^{j\\prime}) & \\text{si} & j\\neq j\\prime \\\\\\\n",
    "\\mathrm{Var}(X^j) &\\text{sinon}\n",
    "\\end{array}\n",
    "\\right..\n",
    "$$\n",
    "The diagonal of $\\Sigma$ contains the variances of the variables, and outside the diagonal\n",
    "we find the covariances between the variables.\n",
    "\n",
    "The variance-covariance matrix of a numpy array can be calculated using the following code\n",
    "```\n",
    "cov = np.cov(X, rowvar=False)\n",
    "cov\n",
    "```"
   ]
  },
  {
   "cell_type": "markdown",
   "metadata": {},
   "source": [
    "## Corrélations\n",
    "\n",
    "La matrice de **corrélation** est un tableau qui donne les *corrélations* enbtre les\n",
    "$p$ variables d'un tableau $X$ de taille $n\\times p$.\n",
    "\n",
    "Si $X^j$ et $X^{j\\prime}$ sont deux variables statistiques de dimension $n$, la corrélation empirique\n",
    "entre ces deux variables est donnée par la formule suivante\n",
    "$$\n",
    "\\rho(X^j, X^{j\\prime}) = \\frac{\\mathrm{Cov}(X^j, X^{j\\prime})}{\\sqrt{\\mathrm{Var}(X^j)\\mathrm{Var}(X^{j\\prime})}}\n",
    "$$\n",
    "La matrice de corrélation, notée $R$, est une matrice de taille $p\\times p$ qui contient\n",
    "les éléments suivants\n",
    "$$\n",
    "r_{jj\\prime} = \\left\\{\n",
    "\\begin{array}{lcl}\n",
    "\\rho(X^j, X^{j\\prime}) & \\text{si} & j\\neq j\\prime \\\\\n",
    "1 &\\text{sinon}\n",
    "\\end{array}\n",
    "\\right..\n",
    "$$\n",
    "La diagonale de $R$ ne contient que des 1, car la corrélation d'une variable avec elle même est parfaite.\n",
    "\n",
    "Il est possible de calculer la matrice de variance covariance d'un tableau ``numpy`` en utilisant le code suivant\n",
    "```\n",
    "cor = np.corrcoef(X, rowvar=False)\n",
    "cor\n",
    "```\n",
    "\n",
    "## Correlations\n",
    "\n",
    "The **correlation matrix** is a table that gives the *correlations* between the\n",
    "$p$ variables of an array $X$ of size $n\\times p$.\n",
    "\n",
    "If $X^j$ and $X^{j\\prime}$ are two statistical variables of dimension $n$, the empirical correlation\n",
    "between these two variables is given by the following formula\n",
    "$$\n",
    "\\rho(X^j, X^{j\\prime}) = \\frac{\\mathrm{Cov}(X^j, X^{j\\prime})}{\\sqrt{\\mathrm{Var}(X^j)\\mathrm{Var}(X^{j\\prime})}}\n",
    "$$\n",
    "The correlation matrix, denoted $R$, is a matrix of size $p\\times p$ which contains\n",
    "the following elements\n",
    "$$\n",
    "r_{jj\\prime} = \\left\\{\n",
    "\\begin{array}{lcl}\n",
    "\\rho(X^j, X^{j\\prime}) & \\text{si} & j\\neq j\\prime \\\\\n",
    "1 &\\text{sinon}\n",
    "\\end{array}\n",
    "\\right..\n",
    "$$\n",
    "The diagonal of $R$ contains only 1's, because the correlation of a variable with itself is perfect.\n",
    "\n",
    "The variance-covariance matrix of a numpy array can be calculated using the following code\n",
    "```\n",
    "cor = np.corrcoef(X, rowvar=False)\n",
    "cor\n",
    "```"
   ]
  },
  {
   "cell_type": "markdown",
   "metadata": {},
   "source": [
    "## Training: Olympic data file\n",
    "\n",
    "Let's read a data file and try to interpret these statistics.\n",
    "\n",
    "The file *olympic.csv* contains the men's decathlon results from the\n",
    "1988 Olympic Games. The variables are\n",
    "\n",
    "- IDEN: athlete number\n",
    "- C100: the 100 m race,\n",
    "- SLONG: long jump,\n",
    "- LWEIGHT: shot put,\n",
    "- SHAUT: high jump,\n",
    "- C400: 400 m race,\n",
    "- C110: 110 m hurdles,\n",
    "- LDISQ: discus throw,\n",
    "- SPERCH: pole vault,\n",
    "- LJAVE: javelin throw,\n",
    "- C1500: 1500 m race\n",
    "- SCORE: total score obtained.\n",
    "\n",
    "These data were published as example no. 357 in the book\n",
    "*A handbook of small data sets \"* published by Chapman & Hall, London (1994)\n",
    "authored by Hand, D.J., Daly, F., Lunn, A.D., McConway, K.J. & Ostrowski, E.\n",
    "\n",
    "This was a repeat of the example cited by\n",
    "Lunn, A. D. & McNeil, D.R. in \"*Computer-Interactive Data Analysis*\", Wiley, New York (1991).\n",
    "\n",
    "For races, the common unit is the second; for jumps and throws, it's the meter.\n",
    "Finally, the score is given in points.\n"
   ]
  },
  {
   "cell_type": "code",
   "execution_count": null,
   "metadata": {},
   "outputs": [],
   "source": [
    "df = pd.read_csv(\"olympic.csv\",delimiter=\";\")\n",
    "df = df.rename(columns=lambda x: x.strip()) # remove whitespaces\n",
    "df"
   ]
  },
  {
   "cell_type": "code",
   "execution_count": null,
   "metadata": {},
   "outputs": [],
   "source": [
    "df.columns"
   ]
  },
  {
   "cell_type": "code",
   "execution_count": null,
   "metadata": {},
   "outputs": [],
   "source": [
    "# Export values to numpy array X, y\n",
    "# ncols : number of columns of the dataframe\n",
    "# X : the series\n",
    "# y : the score\n",
    "ncols  = df.shape[1]\n",
    "sports = df.columns[1:ncols-1]\n",
    "score  = \"SCORE\"\n",
    "X = df[sports].to_numpy()\n",
    "y = df[\"SCORE\"].to_numpy()\n",
    "X.shape, y.shape"
   ]
  },
  {
   "cell_type": "markdown",
   "metadata": {},
   "source": [
    "There are $n=34$ athletes (individuals) and $p=10$ sports disciplines (variables). The SCORE is not\n",
    "a sport discipline. It's a variable calculated from the other variables."
   ]
  },
  {
   "cell_type": "markdown",
   "metadata": {},
   "source": [
    "### 1. Compute the sample mean vector, and the sample covariance and correlation matrices\n",
    "\n",
    "For easier reading, we recommend transforming the numpy vector of means and both\n",
    "matrices into a dataframe. The following code converts the numpy vector ``mu`` and the matrices\n",
    "``cov`` and ``cor`` into a DataFrame.\n",
    "\n",
    "```\n",
    "pd.DataFrame(mu.reshape((1,10)), columns = sports, index=['Means'])\n",
    "pd.DataFrame(cov, columns = sports, index=sports)\n",
    "pd.DataFrame(cor, columns = sports, index=sports)\n",
    "```"
   ]
  },
  {
   "cell_type": "markdown",
   "metadata": {},
   "source": [
    "#### Computation of the sample mean vector"
   ]
  },
  {
   "cell_type": "code",
   "execution_count": null,
   "metadata": {},
   "outputs": [],
   "source": [
    "# Compute the means using numpy (mu)\n"
   ]
  },
  {
   "cell_type": "code",
   "execution_count": null,
   "metadata": {},
   "outputs": [],
   "source": [
    "# copy the result in a dataframe\n"
   ]
  },
  {
   "cell_type": "markdown",
   "metadata": {},
   "source": [
    "#### Computation of the variance-covariance matrix"
   ]
  },
  {
   "cell_type": "code",
   "execution_count": null,
   "metadata": {},
   "outputs": [],
   "source": [
    "# compute the variance-covariance matrix (cov)\n"
   ]
  },
  {
   "cell_type": "code",
   "execution_count": null,
   "metadata": {},
   "outputs": [],
   "source": [
    "# put the result in a dataframe\n"
   ]
  },
  {
   "cell_type": "markdown",
   "metadata": {},
   "source": [
    "#### Computation of the correlation matrix"
   ]
  },
  {
   "cell_type": "code",
   "execution_count": null,
   "metadata": {},
   "outputs": [],
   "source": [
    "#  Computate of the correlation matrix (cor)\n"
   ]
  },
  {
   "cell_type": "code",
   "execution_count": null,
   "metadata": {},
   "outputs": [],
   "source": [
    "# put the result in a dataframe\n"
   ]
  },
  {
   "cell_type": "markdown",
   "metadata": {},
   "source": [
    "### 2. Interpretations\n",
    "\n",
    "Make scatterplots by crossing the variables and interpret the most important positive and negative correlations, then try to explain\n",
    "\n",
    "- Which sports are strongly positively or negatively correlated? How do you interpret these correlations?\n",
    "- In particular, why is the long jump negatively correlated with the 100m race?\n",
    "\n",
    "The following code is used to represent four scatterplots, each time crossing two disciplines:\n",
    "\n",
    "```\n",
    "fig, ax = plt.subplots(2,2,figsize=(16,10)) \n",
    "\n",
    "ax[0,0].scatter(x=X[:,0], y=X[:,5])\n",
    "ax[0,0].set_xlabel(sports[0])\n",
    "ax[0,0].set_ylabel(sports[5])\n",
    "\n",
    "ax[0,1].scatter(X[:,0], X[:,1])\n",
    "ax[0,1].set_xlabel(sports[0])\n",
    "ax[0,1].set_ylabel(sports[1])\n",
    "\n",
    "ax[1,0].scatter(X[:,4], X[:,1])\n",
    "ax[1,0].set_xlabel(sports[4])\n",
    "ax[1,0].set_ylabel(sports[1])\n",
    "\n",
    "ax[1,1].scatter(X[:,2], X[:,8])\n",
    "ax[1,1].set_xlabel(sports[2])\n",
    "ax[1,1].set_ylabel(sports[8])\n",
    "\n",
    "plt.show()\n",
    "```"
   ]
  },
  {
   "cell_type": "code",
   "execution_count": null,
   "metadata": {},
   "outputs": [],
   "source": []
  },
  {
   "cell_type": "markdown",
   "metadata": {},
   "source": [
    "Using the library ``seaborn``, you can obtain a scatterplot matrix of all the sports\n",
    "\n",
    "```\n",
    "import seaborn as sns\n",
    "```\n",
    "and use\n",
    "\n",
    "```\n",
    "g = sns.pairplot(df, vars=[sports].append(score), kind=\"scatter\", diag_kind=\"hist\", height=1.2)\n",
    "g.fig.suptitle(\"Scatterplot matrix\", y=1.05)\n",
    "```"
   ]
  },
  {
   "cell_type": "code",
   "execution_count": null,
   "metadata": {},
   "outputs": [],
   "source": [
    "# import seaborn here\n"
   ]
  },
  {
   "cell_type": "code",
   "execution_count": null,
   "metadata": {},
   "outputs": [],
   "source": [
    "# scatterplot matrix here\n"
   ]
  },
  {
   "cell_type": "markdown",
   "metadata": {},
   "source": [
    "# Linear Regression\n",
    "\n",
    "We don't know how the ``SCORE`` is computed ! Without any guess, we may assume that it depends linearly of the\n",
    "results of the athletes. In this part, you will try to recover the variable ``SCORE`` by adjusting a linear model of the form\n",
    "$$\n",
    " \\text{SCORE} = \\beta_0 + \\beta_1 \\text{C100} + \\beta_2 \\text{SLONG} +\\ldots+\\beta_{10} \\text{C1500} + \\text{error}\n",
    "$$\n",
    "with $\\beta_0,\\ldots,\\beta_{10}$ unknown parameters to determine.\n",
    "\n",
    "\n",
    "The first step will be to implement the computation of the ML estimator \n",
    "$$\n",
    "\\hat{\\boldsymbol\\beta} = (X^TX)^{-1} X^T Y\n",
    "$$\n",
    "using ``numpy``\n",
    "\n",
    "1. First add a column to the matrix $X$ with only 1 as value. You can use \n",
    "  ```\n",
    "  n, p = X.shape\n",
    "  one = np.ones( (n, 1), dtype=X.dtype)\n",
    "  X = np.hstack( [one, X] )\n",
    "  ```\n",
    "  in order to obtain a matrix of size $(n,p+1)$.\n"
   ]
  },
  {
   "cell_type": "code",
   "execution_count": null,
   "metadata": {},
   "outputs": [],
   "source": [
    "# add CONST to variables names\n",
    "coefnames = pd.Index([\"CONST\"]).append(sports)\n",
    "coefnames"
   ]
  },
  {
   "cell_type": "code",
   "execution_count": null,
   "metadata": {},
   "outputs": [],
   "source": [
    "# get n and p values here\n"
   ]
  },
  {
   "cell_type": "code",
   "execution_count": null,
   "metadata": {},
   "outputs": [],
   "source": [
    "# add column with constant one to X here\n"
   ]
  },
  {
   "cell_type": "markdown",
   "metadata": {},
   "source": [
    "2. Next implement the computation of the vector $\\boldsymbol\\beta$ using the ``T``, ``dot`` and ``np.linalg.inv``\n",
    "   methods\n",
    "   \n",
    "   Using\n",
    "   ```\n",
    "      pd.DataFrame(beta.reshape((1,p+1)), columns = coefnames, index=['Beta'])   \n",
    "   ```\n",
    "   you shoud get the following result\n",
    "\n",
    "\n",
    "|      | CONST | C100 | SLONG | LPOIDS | SHAUT | C400 | C110 | LDISQ |SPERCH | LJAVE | C1500 |\n",
    "|------|-------|------|-------|--------|-------|------|------|-------|-------|-------|-------|\n",
    "| **Beta**     | 9493.686831 | -198.535205 | 207.018676 | 60.120172 | 958.607525 | -57.153815| -129.792204| 18.248976 |258.625203| 14.617478| -6.259179 |\n",
    "\n"
   ]
  },
  {
   "cell_type": "code",
   "execution_count": null,
   "metadata": {},
   "outputs": [],
   "source": [
    "# compute beta 9493in a numpy array here\n"
   ]
  },
  {
   "cell_type": "code",
   "execution_count": null,
   "metadata": {},
   "outputs": [],
   "source": [
    "# copy the result in a dataframe here\n"
   ]
  },
  {
   "cell_type": "markdown",
   "metadata": {},
   "source": [
    "3. Compute the **predicted** values of the model, i.e.\n",
    "\n",
    "   $$\n",
    "     \\hat{Y} = X \\hat{\\boldsymbol\\beta}\n",
    "   $$\n",
    "   and the **residuals** of the model, i.e.\n",
    "   $$\n",
    "     \\hat{\\boldsymbol\\epsilon} = Y - \\hat{Y}\n",
    "   $$\n"
   ]
  },
  {
   "cell_type": "code",
   "execution_count": null,
   "metadata": {},
   "outputs": [],
   "source": [
    "# compute `yhat` here\n"
   ]
  },
  {
   "cell_type": "code",
   "execution_count": null,
   "metadata": {},
   "outputs": [],
   "source": [
    "# compute the residual `res` here\n"
   ]
  },
  {
   "cell_type": "markdown",
   "metadata": {},
   "source": [
    "4. Show scatterlots $(y,\\hat{y})$ and $(y,\\hat{\\boldsymbol\\epsilon})$ and interpret"
   ]
  },
  {
   "cell_type": "code",
   "execution_count": null,
   "metadata": {},
   "outputs": [],
   "source": [
    "fig, ax = plt.subplots(2,1,figsize=(16,10)) \n",
    "\n",
    "ax[0].scatter(x=yhat, y=y)\n",
    "ax[0].set_xlabel(\"Predicted SCORE\")\n",
    "ax[0].set_ylabel(\"SCORE\")\n",
    "\n",
    "ax[1].scatter(x=res, y=y)\n",
    "ax[1].set_xlabel(\"Residuals\")\n",
    "ax[1].set_ylabel(\"SCORE\")\n",
    "\n",
    "plt.show()"
   ]
  },
  {
   "cell_type": "markdown",
   "metadata": {},
   "source": [
    "4. Compute the $R^2$ value and conclude\n",
    "\n",
    "   We often use three different sum of squares values to measure how well the regression line actually fits the data:\n",
    "\n",
    "- Sum of Squares Total (SST): The sum of squared differences between individual data points (yi) and the mean of the response variable (y).\n",
    "\n",
    "    $$ \\text{SST} = \\sum (y_i -\\bar{y})^2$$\n",
    "\n",
    "- Sum of Squares Regression (SSR): The sum of squared differences between predicted data points (ŷi) and the mean of the response variable(y).\n",
    "\n",
    "    $$ \\text{SSR} = \\sum (\\hat{y}_i -\\bar{y})^2$$\n",
    "\n",
    "- Sum of Squares Error (SSE) – The sum of squared differences between predicted data points (ŷi) and observed data points (yi).\n",
    "\n",
    "    $$ \\text{SSE} = \\sum (\\hat{y}_i -y_i)^2 = \\sum \\hat{\\boldsymbol\\epsilon}_i^2$$\n",
    "\n",
    "- According to the Pythagorean theorem, we have the following equality:\n",
    "$$ \\begin{aligned}\n",
    "  ||Y-\\bar{Y}||^2 &= ||\\hat{Y}-\\bar{Y}||^2 + ||\\hat{\\epsilon}||^2\\\\\n",
    "  \\text{SST} &= \\text{SSR} + \\text{SSE}\n",
    "  \\end{aligned}  \n",
    "$$\n",
    "i.e. \"Total variance\" = \"Explained variance\" + \"Residual variance\"\n",
    "\n",
    "- The $R^2$ is computed as the ratio of total variance to explained variance\n",
    "$$\n",
    "R^2 = \\frac{\\text{SSR}}{\\text{SST}}\n",
    "$$\n",
    "\n",
    "The closer it is to 1, the more relevant the model, and the closer it is to 0, the less convincing the model.\n"
   ]
  },
  {
   "cell_type": "code",
   "execution_count": null,
   "metadata": {},
   "outputs": [],
   "source": [
    "# Compute ymean here\n"
   ]
  },
  {
   "cell_type": "code",
   "execution_count": null,
   "metadata": {},
   "outputs": [],
   "source": [
    "# compute the R2 here\n"
   ]
  }
 ],
 "metadata": {
  "kernelspec": {
   "display_name": "Python 3 (ipykernel)",
   "language": "python",
   "name": "python3"
  },
  "language_info": {
   "codemirror_mode": {
    "name": "ipython",
    "version": 3
   },
   "file_extension": ".py",
   "mimetype": "text/x-python",
   "name": "python",
   "nbconvert_exporter": "python",
   "pygments_lexer": "ipython3",
   "version": "3.10.12"
  }
 },
 "nbformat": 4,
 "nbformat_minor": 1
}
