{
 "cells": [
  {
   "cell_type": "markdown",
   "id": "411c5f35",
   "metadata": {},
   "source": [
    "# Training session\n",
    "\n",
    "When a forester evaluates the vigor of a forest, he often considers\n",
    "the height of its trees. The taller the trees the higher the forest or plantation\n",
    "produces.  If we seek to quantify production in terms of wood volume, it is necessary\n",
    "to know the height of the tree to calculate the volume of wood, using a formula like\n",
    "a \"trunk-cone\" type formula. However, measuring the height\n",
    "of a twenty-meter tree is not easy.  It is therefore\n",
    "necessary to estimate the height using a simple measurement: the\n",
    "circumference at 1.30 meters from the ground.  \n",
    " \n",
    "The data consists of $n=1429$ circumference-height pairs,\n",
    "obtained on a plot of 6-year-old eucalyptus (rotation age before cutting).\n",
    "These data are in a file called ``eucalyptus.txt``.\n",
    "\n",
    "The aim is to find the relationship between circumference and height\n",
    "in order to predict a tree's height from its circumference."
   ]
  },
  {
   "cell_type": "markdown",
   "id": "84666ef7",
   "metadata": {},
   "source": [
    "1. Import data in a dataframe."
   ]
  },
  {
   "cell_type": "code",
   "execution_count": null,
   "id": "fabf44a9",
   "metadata": {},
   "outputs": [],
   "source": [
    "import pandas as pd\n",
    "import matplotlib.pyplot as plt"
   ]
  },
  {
   "cell_type": "code",
   "execution_count": null,
   "id": "f3e6fb9f",
   "metadata": {},
   "outputs": [],
   "source": [
    "df = pd.read_csv(\"eucalyptus.txt\", sep=\" \")\n",
    "df.head()"
   ]
  },
  {
   "cell_type": "markdown",
   "id": "48671a50",
   "metadata": {},
   "source": [
    "2.  Plot the scatter plot of height versus circumference"
   ]
  },
  {
   "cell_type": "code",
   "execution_count": null,
   "id": "e88f6e37",
   "metadata": {},
   "outputs": [],
   "source": [
    "fig, ax = plt.subplots( 1,1, figsize=(12,12))\n",
    "\n",
    "df.plot.scatter(\"circ\", \"ht\", ax=ax)\n",
    "\n",
    "ax.set_xlabel(\"circumference\")\n",
    "ax.set_ylabel(\"Height\")\n",
    "ax.set_title(\"Scatter plot\")\n",
    "\n",
    "ax.grid()\n",
    "plt.show() "
   ]
  },
  {
   "cell_type": "markdown",
   "id": "5a4af6dd",
   "metadata": {},
   "source": [
    "3. First, we propose to model the relationship between height and circumference using a simple linear regression model.\n",
    "   Recall the model and associated assumptions."
   ]
  },
  {
   "cell_type": "markdown",
   "id": "2bcfc553",
   "metadata": {},
   "source": []
  },
  {
   "cell_type": "markdown",
   "id": "fc1195a2",
   "metadata": {},
   "source": [
    "4. Calculate the estimators of the coefficients of the line using the python library ``statsmodels``\n",
    "\n",
    "   Note: create matrix $X$ and vector $Y$ and don't forget the `intercept`"
   ]
  },
  {
   "cell_type": "code",
   "execution_count": null,
   "id": "ffbd7043",
   "metadata": {},
   "outputs": [],
   "source": [
    "import statsmodels.api as sm"
   ]
  },
  {
   "cell_type": "code",
   "execution_count": null,
   "id": "e472a4b9",
   "metadata": {},
   "outputs": [],
   "source": []
  },
  {
   "cell_type": "code",
   "execution_count": null,
   "id": "5a237efd",
   "metadata": {},
   "outputs": [],
   "source": []
  },
  {
   "cell_type": "markdown",
   "id": "91efc1ff",
   "metadata": {},
   "source": [
    "5. Plot the values predicted by the linear model and the observed values on the same graph, compute the predicted values and the residuals. Analyse the residuals. Comments?\n",
    "\n",
    "You should get the following plot\n",
    "\n",
    "<img title=\"Result\" alt=\"Alt text\" src=\"Eucalyptus.png\">"
   ]
  },
  {
   "cell_type": "code",
   "execution_count": null,
   "id": "acfe1fd4",
   "metadata": {},
   "outputs": [],
   "source": []
  },
  {
   "cell_type": "code",
   "execution_count": null,
   "id": "00809f84",
   "metadata": {},
   "outputs": [],
   "source": []
  },
  {
   "cell_type": "code",
   "execution_count": null,
   "id": "ccfdb30c",
   "metadata": {},
   "outputs": [],
   "source": []
  },
  {
   "cell_type": "markdown",
   "id": "e26e8c9f",
   "metadata": {},
   "source": [
    "5. We now seek to model the relationship by a linear model relating the square root of the circumference to the height. Explain the model and implement it.\n",
    "$$\n",
    "y_i = \\beta_0 + \\beta_1 \\sqrt{x_i} +\\epsilon_i\n",
    "$$"
   ]
  },
  {
   "cell_type": "code",
   "execution_count": null,
   "id": "f3cd561c",
   "metadata": {},
   "outputs": [],
   "source": []
  },
  {
   "cell_type": "markdown",
   "id": "383cd657",
   "metadata": {},
   "source": [
    "6. We now consider a linear (multidimensional) model involving two variables, the square root of the circumference to the height and the circumference itself. Explain and implement the model. What about the residuals ?\n",
    "\n",
    "$$\n",
    "y_i = \\beta_0 + \\beta_1 \\sqrt{x_i} + \\beta_2 x_i +\\epsilon_i\n",
    "$$"
   ]
  },
  {
   "cell_type": "code",
   "execution_count": null,
   "id": "c7ba3887",
   "metadata": {},
   "outputs": [],
   "source": []
  },
  {
   "cell_type": "markdown",
   "id": "fef970a8",
   "metadata": {},
   "source": [
    "7. Let's now consider a multiple linear regression model involving integer powers of the circumference. Write the associated models and implement them.\n",
    "$$\n",
    "y_i = \\beta_0 + \\beta_1 x_i + \\beta_2 x_i^2+\\ldots+\\beta_p x_i^p +\\epsilon_i\n",
    "$$\n"
   ]
  },
  {
   "cell_type": "code",
   "execution_count": null,
   "id": "53739c6f",
   "metadata": {},
   "outputs": [],
   "source": []
  },
  {
   "cell_type": "markdown",
   "id": "fed143fa",
   "metadata": {},
   "source": [
    "11. For each of the models proposed above, plot the values predicted by the model and the observed values. Please comment."
   ]
  },
  {
   "cell_type": "code",
   "execution_count": null,
   "id": "c5cee57f",
   "metadata": {},
   "outputs": [],
   "source": []
  },
  {
   "cell_type": "markdown",
   "id": "7321bee2",
   "metadata": {},
   "source": [
    "13. Compare models using the BIC criterion"
   ]
  },
  {
   "cell_type": "code",
   "execution_count": null,
   "id": "2fc3ddaa",
   "metadata": {},
   "outputs": [],
   "source": []
  }
 ],
 "metadata": {
  "kernelspec": {
   "display_name": "Python 3 (ipykernel)",
   "language": "python",
   "name": "python3"
  },
  "language_info": {
   "codemirror_mode": {
    "name": "ipython",
    "version": 3
   },
   "file_extension": ".py",
   "mimetype": "text/x-python",
   "name": "python",
   "nbconvert_exporter": "python",
   "pygments_lexer": "ipython3",
   "version": "3.10.12"
  }
 },
 "nbformat": 4,
 "nbformat_minor": 5
}
